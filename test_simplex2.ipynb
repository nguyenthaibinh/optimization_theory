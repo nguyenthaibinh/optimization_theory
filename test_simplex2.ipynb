{
 "cells": [
  {
   "cell_type": "markdown",
   "metadata": {},
   "source": [
    "# An example that one-phase simplex method CAN NOT solve but two-phase simplex method CAN solve\n",
    "\n",
    "$\\text{min } z = 6x_1 + 3x_2$\n",
    "    \n",
    "st\n",
    "\n",
    "$    x_1 + x_2 \\geq 1$\n",
    "\n",
    "$     2x_1 − x_2 \\geq 1$\n",
    "\n",
    "$   3x_2 \\leq 2$\n",
    "\n",
    "$    x_1, x_2 \\geq 0$"
   ]
  },
  {
   "cell_type": "code",
   "execution_count": 1,
   "metadata": {
    "collapsed": true
   },
   "outputs": [],
   "source": [
    "import simplex as sp\n",
    "import two_phase_simplex as sp2\n",
    "from imp import reload"
   ]
  },
  {
   "cell_type": "markdown",
   "metadata": {},
   "source": [
    "### Use One-phase simplex method\n",
    "\n",
    "The optimal solution is found but it is not feasible."
   ]
  },
  {
   "cell_type": "code",
   "execution_count": 2,
   "metadata": {
    "collapsed": false
   },
   "outputs": [
    {
     "name": "stdout",
     "output_type": "stream",
     "text": [
      "The initial tableau:\n",
      "       x1    x2    s3    s4    s5     b\n",
      "\n",
      "        1     1    -1     0     0     1\n",
      "\n",
      "        2    -1     0    -1     0     1\n",
      "\n",
      "        0     3     0     0     1     2\n",
      "\n",
      "  r     6     3     0     0     0     0\n",
      "\n",
      "Optimal reached!\n",
      "    x1 = 0\n",
      "    x2 = 0\n",
      "Optimal value: 0\n"
     ]
    }
   ],
   "source": [
    "reload(sp)\n",
    "t = sp.Simplex('min', [6, 3])\n",
    "t.add_constraint([1, 1], 1, \">=\")\n",
    "t.add_constraint([2, -1], 1, \">=\")\n",
    "t.add_constraint([0, 3], 2, \"<=\")\n",
    "t.solve()"
   ]
  },
  {
   "cell_type": "markdown",
   "metadata": {},
   "source": [
    "<br ><br />\n",
    "### Use two phase simplex method\n",
    "\n",
    "The optimal feasible solution is found"
   ]
  },
  {
   "cell_type": "code",
   "execution_count": 3,
   "metadata": {
    "collapsed": false
   },
   "outputs": [
    {
     "name": "stdout",
     "output_type": "stream",
     "text": [
      "\n",
      "PHASE 1\n",
      "========\n",
      "The initial tableau:\n",
      "\n",
      "       x1    x2    s3    s4    s5    r6    r7     b\n",
      "\n",
      "        1     1    -1     0     0     1     0     1\n",
      "\n",
      "        2    -1     0    -1     0     0     1     1\n",
      "\n",
      "        0     3     0     0     1     0     0     2\n",
      "\n",
      "  r     0     0     0     0     0     1     1     0\n",
      "\n",
      "\n",
      "Make zero under the basis variables, we get:\n",
      "\n",
      "       x1    x2    s3    s4    s5    r6    r7     b\n",
      "\n",
      "        1     1    -1     0     0     1     0     1\n",
      "\n",
      "        2    -1     0    -1     0     0     1     1\n",
      "\n",
      "        0     3     0     0     1     0     0     2\n",
      "\n",
      "  r    -3     0     1     1     0     0     0    -2\n",
      "\n",
      "pivot_column: 1\n",
      "pivot_row: 2\n",
      "\n",
      "       x1    x2    s3    s4    s5    r6    r7     b\n",
      "\n",
      "        0   3/2    -1   1/2     0     1  -1/2   1/2\n",
      "\n",
      "        1  -1/2     0  -1/2     0     0   1/2   1/2\n",
      "\n",
      "        0     3     0     0     1     0     0     2\n",
      "\n",
      "  r     0  -3/2     1  -1/2     0     0   3/2  -1/2\n",
      "\n",
      "pivot_column: 2\n",
      "pivot_row: 1\n",
      "\n",
      "       x1    x2    s3    s4    s5    r6    r7     b\n",
      "\n",
      "        0     1  -2/3   1/3     0   2/3  -1/3   1/3\n",
      "\n",
      "        1     0  -1/3  -1/3     0   1/3   1/3   2/3\n",
      "\n",
      "        0     0     2    -1     1    -2     1     1\n",
      "\n",
      "  r     0     0     0     0     0     1     1     0\n",
      "\n",
      "Optimal reached!\n",
      "    x1 = 2/3\n",
      "    x2 = 1/3\n",
      "    s3 = 0\n",
      "    s4 = 0\n",
      "    s5 = 1\n",
      "\n",
      "PHASE 2\n",
      "========\n",
      "Remove artificial variables, we get:\n",
      "\n",
      "       x1    x2    s3    s4    s5     b\n",
      "\n",
      "        0     1  -2/3   1/3     0   1/3\n",
      "\n",
      "        1     0  -1/3  -1/3     0   2/3\n",
      "\n",
      "        0     0     2    -1     1     1\n",
      "\n",
      "  r     6     3     0     0     0     0\n",
      "\n",
      "\n",
      "Make zero under the basis variables, we get:\n",
      "\n",
      "       x1    x2    s3    s4    s5     b\n",
      "\n",
      "        0     1  -2/3   1/3     0   1/3\n",
      "\n",
      "        1     0  -1/3  -1/3     0   2/3\n",
      "\n",
      "        0     0     2    -1     1     1\n",
      "\n",
      "  r     0     0     4     1     0    -5\n",
      "\n",
      "Optimal reached!\n",
      "    x1 = 2/3\n",
      "    x2 = 1/3\n",
      "Optimal value: -5\n"
     ]
    }
   ],
   "source": [
    "reload(sp2)\n",
    "t = sp2.Simplex2('min', [6, 3])\n",
    "t.add_constraint([1, 1], 1, \">=\")\n",
    "t.add_constraint([2, -1], 1, \">=\")\n",
    "t.add_constraint([0, 3], 2, \"<=\")\n",
    "t.solve()"
   ]
  },
  {
   "cell_type": "code",
   "execution_count": null,
   "metadata": {
    "collapsed": true
   },
   "outputs": [],
   "source": []
  }
 ],
 "metadata": {
  "kernelspec": {
   "display_name": "Python [conda env:py36]",
   "language": "python",
   "name": "conda-env-py36-py"
  },
  "language_info": {
   "codemirror_mode": {
    "name": "ipython",
    "version": 3
   },
   "file_extension": ".py",
   "mimetype": "text/x-python",
   "name": "python",
   "nbconvert_exporter": "python",
   "pygments_lexer": "ipython3",
   "version": "3.6.0"
  }
 },
 "nbformat": 4,
 "nbformat_minor": 0
}
