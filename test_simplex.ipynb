{
 "cells": [
  {
   "cell_type": "markdown",
   "metadata": {},
   "source": [
    "# Solve the following problem:\n",
    "\n",
    "$\\text{min } z = -3x1 - x2 - 3x3$\n",
    "    \n",
    "st\n",
    "\n",
    "$    2x_1 +  x_2 +  x_3 \\leq 2$\n",
    "\n",
    "$     x_1 +  x_2 + 3x_3 \\leq 5$\n",
    "\n",
    "$   2x_1 + 2x_2 +  x_3 \\leq 6$\n",
    "\n",
    "$    x_1, x_2, x_3 \\geq 0$"
   ]
  },
  {
   "cell_type": "code",
   "execution_count": 1,
   "metadata": {
    "collapsed": false
   },
   "outputs": [],
   "source": [
    "from simplex import Simplex\n",
    "from two_phase_simplex import TwoPhasesSimplex"
   ]
  },
  {
   "cell_type": "markdown",
   "metadata": {},
   "source": [
    "### Use simplex method"
   ]
  },
  {
   "cell_type": "code",
   "execution_count": 2,
   "metadata": {
    "collapsed": false
   },
   "outputs": [
    {
     "name": "stdout",
     "output_type": "stream",
     "text": [
      "The initial tableau:\n",
      "          a1    a2    a3    a4    a5    a6     b\n",
      "\n",
      "           2     1     1     1     0     0     2\n",
      "\n",
      "           1     1     3     0     1     0     5\n",
      "\n",
      "           2     2     1     0     0     1     6\n",
      "\n",
      "     r    -3    -1    -3     0     0     0     0\n",
      "\n",
      "pivot column: 1\n",
      "pivot row: 1\n",
      "\n",
      "          a1    a2    a3    a4    a5    a6     b\n",
      "\n",
      "           1   1/2   1/2   1/2     0     0     1\n",
      "\n",
      "           0   1/2   5/2  -1/2     1     0     4\n",
      "\n",
      "           0     1     0    -1     0     1     4\n",
      "\n",
      "     r     0   1/2  -3/2   3/2     0     0     3\n",
      "\n",
      "pivot column: 3\n",
      "pivot row: 2\n",
      "\n",
      "          a1    a2    a3    a4    a5    a6     b\n",
      "\n",
      "           1   2/5     0   3/5  -1/5     0   1/5\n",
      "\n",
      "           0   1/5     1  -1/5   2/5     0   8/5\n",
      "\n",
      "           0     1     0    -1     0     1     4\n",
      "\n",
      "     r     0   4/5     0   6/5   3/5     0  27/5\n",
      "\n",
      "The optimal solution is REACHED!\n",
      "Stopping condition is reached\n",
      "    x1 = 1/5\n",
      "    x2 = 0\n",
      "    x3 = 8/5\n",
      "Optimal value: 27/5\n",
      "--------------------------------\n"
     ]
    }
   ],
   "source": [
    "t = Simplex([-3, -1, -3])\n",
    "t.add_constraint([2, 1, 1], 2)\n",
    "t.add_constraint([1, 1, 3], 5)\n",
    "t.add_constraint([2, 2, 1], 6)\n",
    "t.solve()"
   ]
  },
  {
   "cell_type": "markdown",
   "metadata": {},
   "source": [
    "### Use two phase simplex method"
   ]
  },
  {
   "cell_type": "code",
   "execution_count": 3,
   "metadata": {
    "collapsed": false,
    "scrolled": false
   },
   "outputs": [
    {
     "name": "stdout",
     "output_type": "stream",
     "text": [
      "PERFORM PHASE 1:\n",
      "   The initial tableau of phase 1.\n",
      "            a1     a2     a3     a4     a5     a6      b\n",
      "\n",
      "             2      1      1      1      0      0      2\n",
      "\n",
      "             1      1      3      0      1      0      5\n",
      "\n",
      "             2      2      1      0      0      1      6\n",
      "\n",
      "      r      0      0      0      1      1      1      0\n",
      "\n",
      "Make the last row zero under the basis variables:\n",
      "            a1     a2     a3     a4     a5     a6      b\n",
      "\n",
      "             2      1      1      1      0      0      2\n",
      "\n",
      "             1      1      3      0      1      0      5\n",
      "\n",
      "             2      2      1      0      0      1      6\n",
      "\n",
      "      r     -5     -4     -5      0      0      0    -13\n",
      "\n",
      "pivot column: 1\n",
      "pivot row: 1\n",
      "\n",
      "            a1     a2     a3     a4     a5     a6      b\n",
      "\n",
      "             1    1/2    1/2    1/2      0      0      1\n",
      "\n",
      "             0    1/2    5/2   -1/2      1      0      4\n",
      "\n",
      "             0      1      0     -1      0      1      4\n",
      "\n",
      "      r      0   -3/2   -5/2    5/2      0      0     -8\n",
      "\n",
      "pivot column: 3\n",
      "pivot row: 2\n",
      "\n",
      "            a1     a2     a3     a4     a5     a6      b\n",
      "\n",
      "             1    2/5      0    3/5   -1/5      0    1/5\n",
      "\n",
      "             0    1/5      1   -1/5    2/5      0    8/5\n",
      "\n",
      "             0      1      0     -1      0      1      4\n",
      "\n",
      "      r      0     -1      0      2      1      0     -4\n",
      "\n",
      "pivot column: 2\n",
      "pivot row: 1\n",
      "\n",
      "            a1     a2     a3     a4     a5     a6      b\n",
      "\n",
      "           5/2      1      0    3/2   -1/2      0    1/2\n",
      "\n",
      "          -1/2      0      1   -1/2    1/2      0    3/2\n",
      "\n",
      "          -5/2      0      0   -5/2    1/2      1    7/2\n",
      "\n",
      "      r    5/2      0      0    7/2    1/2      0   -7/2\n",
      "\n",
      "Optimal solution of the phase 1:\n",
      "     x1 = 0\n",
      "     x2 = 1/2\n",
      "     x3 = 3/2\n",
      "\n",
      "\n",
      "================\n",
      "PERFORM PHASE 2:\n",
      "            a1     a2     a3      b\n",
      "\n",
      "           5/2      1      0    1/2\n",
      "\n",
      "          -1/2      0      1    3/2\n",
      "\n",
      "          -5/2      0      0    7/2\n",
      "\n",
      "      r     -3     -1     -3      0\n",
      "\n",
      "Make the last row zero under the basis variables:\n",
      "            a1     a2     a3      b\n",
      "\n",
      "           5/2      1      0    1/2\n",
      "\n",
      "          -1/2      0      1    3/2\n",
      "\n",
      "          -5/2      0      0    7/2\n",
      "\n",
      "      r     -2      0      0      5\n",
      "\n",
      "pivot column: 1\n",
      "pivot row: 1\n",
      "\n",
      "            a1     a2     a3      b\n",
      "\n",
      "             1    2/5      0    1/5\n",
      "\n",
      "             0    1/5      1    8/5\n",
      "\n",
      "             0      1      0      4\n",
      "\n",
      "      r      0    4/5      0   27/5\n",
      "\n",
      "Optimal solution:\n",
      "     x1 = 0\n",
      "     x2 = 1/2\n",
      "     x3 = 3/2\n",
      "Optimal value: 27/5\n"
     ]
    }
   ],
   "source": [
    "t = TwoPhasesSimplex([-3, -1, -3])\n",
    "t.add_constraint([2, 1, 1], 2)\n",
    "t.add_constraint([1, 1, 3], 5)\n",
    "t.add_constraint([2, 2, 1], 6)\n",
    "t.solve()"
   ]
  }
 ],
 "metadata": {
  "anaconda-cloud": {},
  "kernelspec": {
   "display_name": "Python [conda env:py36]",
   "language": "python",
   "name": "conda-env-py36-py"
  },
  "language_info": {
   "codemirror_mode": {
    "name": "ipython",
    "version": 3
   },
   "file_extension": ".py",
   "mimetype": "text/x-python",
   "name": "python",
   "nbconvert_exporter": "python",
   "pygments_lexer": "ipython3",
   "version": "3.6.0"
  }
 },
 "nbformat": 4,
 "nbformat_minor": 0
}
