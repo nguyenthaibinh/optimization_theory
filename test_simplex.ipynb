{
 "cells": [
  {
   "cell_type": "markdown",
   "metadata": {},
   "source": [
    "# Solve the following problem:\n",
    "\n",
    "$\\text{min } z = -3x1 - x2 - 3x3$\n",
    "    \n",
    "st\n",
    "\n",
    "$    2x_1 +  x_2 +  x_3 \\leq 2$\n",
    "\n",
    "$     x_1 +  x_2 + 3x_3 \\leq 5$\n",
    "\n",
    "$   2x_1 + 2x_2 +  x_3 \\leq 6$\n",
    "\n",
    "$    x_1, x_2, x_3 \\geq 0$"
   ]
  },
  {
   "cell_type": "code",
   "execution_count": 1,
   "metadata": {
    "collapsed": false
   },
   "outputs": [],
   "source": [
    "import simplex as sp\n",
    "import two_phase_simplex as sp2\n",
    "from imp import reload"
   ]
  },
  {
   "cell_type": "markdown",
   "metadata": {},
   "source": [
    "### Use simplex method"
   ]
  },
  {
   "cell_type": "code",
   "execution_count": 2,
   "metadata": {
    "collapsed": false
   },
   "outputs": [
    {
     "name": "stdout",
     "output_type": "stream",
     "text": [
      "The initial tableau:\n",
      "       x1    x2    x3    s4    s5    s6\n",
      "\n",
      "        2     1     1     1     0     2\n",
      "\n",
      "        1     1     3     0     1     5\n",
      "\n",
      "        2     2     1     0     0     6\n",
      "\n",
      "  r    -3    -1    -3     0     0     0\n",
      "\n",
      "pivot_column: 1\n",
      "pivot_row: 1\n",
      "       x1    x2    x3    s4    s5    s6\n",
      "\n",
      "        1   1/2   1/2   1/2     0     1\n",
      "\n",
      "        0   1/2   5/2  -1/2     1     4\n",
      "\n",
      "        0     1     0    -1     0     4\n",
      "\n",
      "  r     0   1/2  -3/2   3/2     0     3\n",
      "\n",
      "pivot_column: 3\n",
      "pivot_row: 2\n",
      "       x1    x2    x3    s4    s5    s6\n",
      "\n",
      "        1   2/5     0   3/5  -1/5   1/5\n",
      "\n",
      "        0   1/5     1  -1/5   2/5   8/5\n",
      "\n",
      "        0     1     0    -1     0     4\n",
      "\n",
      "  r     0   4/5     0   6/5   3/5  27/5\n",
      "\n",
      "Optimal reached!\n",
      "    x1 = 1/5\n",
      "    x2 = 0\n",
      "    x3 = 8/5\n",
      "Optimal value: 27/5\n"
     ]
    }
   ],
   "source": [
    "reload(sp)\n",
    "t = sp.Simplex(\"min\", [-3, -1, -3])\n",
    "t.add_constraint([2, 1, 1], 2, \"<\")\n",
    "t.add_constraint([1, 1, 3], 5, \"<=\")\n",
    "t.add_constraint([2, 2, 1], 6, \"<=\")\n",
    "t.solve()"
   ]
  },
  {
   "cell_type": "markdown",
   "metadata": {},
   "source": [
    "<br /><br />\n",
    "### Use two phase simplex method"
   ]
  },
  {
   "cell_type": "code",
   "execution_count": 3,
   "metadata": {
    "collapsed": false,
    "scrolled": false
   },
   "outputs": [
    {
     "name": "stdout",
     "output_type": "stream",
     "text": [
      "\n",
      "PHASE 1\n",
      "========\n",
      "The initial tableau:\n",
      "\n",
      "       x1    x2    x3    s4    s5    s6     b\n",
      "\n",
      "        2     1     1     1     0     0     2\n",
      "\n",
      "        1     1     3     0     1     0     5\n",
      "\n",
      "        2     2     1     0     0     1     6\n",
      "\n",
      "  r     0     0     0     0     0     0     0\n",
      "\n",
      "\n",
      "Make zero under the basis variables, we get:\n",
      "\n",
      "       x1    x2    x3    s4    s5    s6     b\n",
      "\n",
      "        2     1     1     1     0     0     2\n",
      "\n",
      "        1     1     3     0     1     0     5\n",
      "\n",
      "        2     2     1     0     0     1     6\n",
      "\n",
      "  r     0     0     0     0     0     0     0\n",
      "\n",
      "Optimal reached!\n",
      "    x1 = 0\n",
      "    x2 = 0\n",
      "    x3 = 0\n",
      "    s4 = 2\n",
      "    s5 = 5\n",
      "    s6 = 6\n",
      "\n",
      "PHASE 2\n",
      "========\n",
      "Remove artificial variables, we get:\n",
      "\n",
      "       x1    x2    x3    s4    s5    s6     b\n",
      "\n",
      "        2     1     1     1     0     0     2\n",
      "\n",
      "        1     1     3     0     1     0     5\n",
      "\n",
      "        2     2     1     0     0     1     6\n",
      "\n",
      "  r    -3    -1    -3     0     0     0     0\n",
      "\n",
      "\n",
      "Make zero under the basis variables, we get:\n",
      "\n",
      "       x1    x2    x3    s4    s5    s6     b\n",
      "\n",
      "        2     1     1     1     0     0     2\n",
      "\n",
      "        1     1     3     0     1     0     5\n",
      "\n",
      "        2     2     1     0     0     1     6\n",
      "\n",
      "  r    -3    -1    -3     0     0     0     0\n",
      "\n",
      "pivot_column: 1\n",
      "pivot_row: 1\n",
      "\n",
      "       x1    x2    x3    s4    s5    s6     b\n",
      "\n",
      "        1   1/2   1/2   1/2     0     0     1\n",
      "\n",
      "        0   1/2   5/2  -1/2     1     0     4\n",
      "\n",
      "        0     1     0    -1     0     1     4\n",
      "\n",
      "  r     0   1/2  -3/2   3/2     0     0     3\n",
      "\n",
      "pivot_column: 3\n",
      "pivot_row: 2\n",
      "\n",
      "       x1    x2    x3    s4    s5    s6     b\n",
      "\n",
      "        1   2/5     0   3/5  -1/5     0   1/5\n",
      "\n",
      "        0   1/5     1  -1/5   2/5     0   8/5\n",
      "\n",
      "        0     1     0    -1     0     1     4\n",
      "\n",
      "  r     0   4/5     0   6/5   3/5     0  27/5\n",
      "\n",
      "Optimal reached!\n",
      "    x1 = 1/5\n",
      "    x2 = 0\n",
      "    x3 = 8/5\n",
      "Optimal value: 27/5\n"
     ]
    }
   ],
   "source": [
    "reload(sp2)\n",
    "t = sp2.Simplex2(\"min\", [-3, -1, -3])\n",
    "t.add_constraint([2, 1, 1], 2, \"<\")\n",
    "t.add_constraint([1, 1, 3], 5, \"<\")\n",
    "t.add_constraint([2, 2, 1], 6, \"<\")\n",
    "t.solve()"
   ]
  }
 ],
 "metadata": {
  "anaconda-cloud": {},
  "kernelspec": {
   "display_name": "Python [conda env:py36]",
   "language": "python",
   "name": "conda-env-py36-py"
  },
  "language_info": {
   "codemirror_mode": {
    "name": "ipython",
    "version": 3
   },
   "file_extension": ".py",
   "mimetype": "text/x-python",
   "name": "python",
   "nbconvert_exporter": "python",
   "pygments_lexer": "ipython3",
   "version": "3.6.0"
  }
 },
 "nbformat": 4,
 "nbformat_minor": 0
}
